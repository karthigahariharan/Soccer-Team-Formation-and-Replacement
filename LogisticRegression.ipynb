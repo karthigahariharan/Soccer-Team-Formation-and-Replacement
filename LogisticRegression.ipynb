{
 "cells": [
  {
   "cell_type": "code",
   "execution_count": null,
   "metadata": {},
   "outputs": [],
   "source": [
    "import pandas as pd\n",
    "import numpy as np\n",
    "from sklearn import preprocessing\n",
    "import matplotlib.pyplot as plt \n",
    "plt.rc(\"font\", size=14)\n",
    "from sklearn.linear_model import LogisticRegression\n",
    "from sklearn.cross_validation import train_test_split\n",
    "\n",
    "sml_lr = pd.read_csv('filtered_dataset.csv', encoding = \"ISO-8859-1\")\n",
    "sml_lr = sml_lr.dropna()\n",
    "print(list(sml_lr.columns))\n",
    "\n",
    "sml_lr2 = pd.DataFrame(sml_lr,columns=['gk_diving', 'gk_positioning', 'gk_reflexes', 'gk_handling', 'gk_kicking', 'heading_accuracy', 'dribbling', 'positioning', 'GoalKeeper'])\n",
    "print(sml_lr2.shape)\n",
    "print(list(sml_lr2.columns))\n",
    "\n",
    "sml_lr_test = pd.read_csv('LeicesterCity-Skill-updated.csv',encoding = \"ISO-8859-1\")\n",
    "sml_lr_test = sml_lr_test.dropna()\n",
    "print(list(sml_lr_test.columns))\n",
    "\n",
    "sml_lr_test2 = pd.DataFrame(sml_lr_test,columns=['gk_diving', 'gk_positioning', 'gk_reflexes', 'gk_handling', 'gk_kicking', 'heading_accuracy', 'dribbling', 'positioning', 'goalkeeper'])\n",
    "print(sml_lr_test2.shape)\n",
    "print(list(sml_lr_test2.columns))\n",
    "\n",
    "X_train = sml_lr2.iloc[:,0:7]\n",
    "y_train = sml_lr2.iloc[:,8]\n",
    "X_test = sml_lr_test2.iloc[:,0:7]\n",
    "y_test = sml_lr_test2.iloc[:,8]\n",
    "\n",
    "X_train = X_train.astype(int)\n",
    "y_train = y_train.astype(int)\n",
    "X_test = X_test.astype(int)\n",
    "y_test = y_test.astype(int)\n",
    "\n",
    "print(X_train.shape)\n",
    "print(y_train.shape)\n",
    "\n",
    "classifier = LogisticRegression(random_state=0)\n",
    "classifier.fit(X_train, y_train)\n",
    "\n",
    "y_pred = classifier.predict(X_test)\n",
    "from sklearn.metrics import confusion_matrix\n",
    "confusion_matrix = confusion_matrix(y_test, y_pred)\n",
    "print(confusion_matrix)\n",
    "\n",
    "print('Accuracy of logistic regression classifier on test set: {:.2f}'.format(classifier.score(X_test, y_test)))\n",
    "print(classifier.coef_)\n",
    "\n",
    "print(classifier.intercept_)\n",
    "\n",
    "print()\n",
    "probabilityValueForEachPlayers = classifier.predict_proba(X_test)[:,1]\n",
    "for value in probabilityValueForEachPlayers:\n",
    "    print(value)"
   ]
  }
 ],
 "metadata": {
  "kernelspec": {
   "display_name": "Python 3",
   "language": "python",
   "name": "python3"
  },
  "language_info": {
   "codemirror_mode": {
    "name": "ipython",
    "version": 3
   },
   "file_extension": ".py",
   "mimetype": "text/x-python",
   "name": "python",
   "nbconvert_exporter": "python",
   "pygments_lexer": "ipython3",
   "version": "3.6.4"
  }
 },
 "nbformat": 4,
 "nbformat_minor": 2
}
