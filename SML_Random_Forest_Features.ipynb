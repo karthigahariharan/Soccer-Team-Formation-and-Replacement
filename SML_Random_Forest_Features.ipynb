{
 "cells": [
  {
   "cell_type": "code",
   "execution_count": 71,
   "metadata": {
    "scrolled": true
   },
   "outputs": [
    {
     "name": "stderr",
     "output_type": "stream",
     "text": [
      "/Applications/anaconda3/lib/python3.6/site-packages/IPython/core/interactiveshell.py:2728: DtypeWarning: Columns (1,39,40,41) have mixed types. Specify dtype option on import or set low_memory=False.\n",
      "  interactivity=interactivity, compiler=compiler, result=result)\n"
     ]
    },
    {
     "name": "stdout",
     "output_type": "stream",
     "text": [
      "8\n",
      "[('gk_diving', 0.14474248477109466), ('gk_positioning', 0.1373909920366923), ('gk_reflexes', 0.1347541417334035), ('gk_handling', 0.1342712318991853), ('gk_kicking', 0.09179010389621757), ('heading_accuracy', 0.07338086737048452), ('dribbling', 0.059074595631526276), ('positioning', 0.04841202155687466)]\n",
      "17\n",
      "[('finishing', 0.13315449179311686), ('sliding_tackle', 0.09899333189890763), ('standing_tackle', 0.08638971942762011), ('marking', 0.07320827747889432), ('interceptions', 0.06198884623587282), ('heading_accuracy', 0.05339064442103182), ('long_passing', 0.0449331409441231), ('penalties', 0.03804172354587509), ('volleys', 0.036402559200711934), ('positioning', 0.035056350204526264), ('long_shots', 0.03184154861452436), ('crossing', 0.02202234181136078), ('short_passing', 0.019270285709448085), ('dribbling', 0.018107813639176594), ('strength', 0.016819793116634164), ('shot_power', 0.016205066743603305), ('free_kick_accuracy', 0.015032843120874492)]\n",
      "20\n",
      "[('long_passing', 0.09073878618893802), ('vision', 0.0895893997722711), ('short_passing', 0.05861063912302036), ('finishing', 0.058337450753178414), ('heading_accuracy', 0.05469550146367022), ('crossing', 0.052971325944738794), ('free_kick_accuracy', 0.05027573258659666), ('sliding_tackle', 0.04167597360794212), ('marking', 0.041060754005029836), ('long_shots', 0.03243507662816514), ('dribbling', 0.029226170034919164), ('standing_tackle', 0.02843906430012909), ('positioning', 0.028075893402961072), ('volleys', 0.026076956219611192), ('strength', 0.025310314362078812), ('curve', 0.024424862150089193), ('shot_power', 0.0207147238013438), ('balance', 0.019186866004694176), ('interceptions', 0.018608693964358974), ('penalties', 0.017727547973191694)]\n",
      "15\n",
      "[('sliding_tackle', 0.14322440183717447), ('marking', 0.13712638961089657), ('standing_tackle', 0.10545608064493686), ('interceptions', 0.07560290423893982), ('vision', 0.058502281291068256), ('finishing', 0.05832411960573673), ('short_passing', 0.030510998700467844), ('long_shots', 0.03015008793367046), ('crossing', 0.028640748606360546), ('long_passing', 0.028250097140526634), ('aggression', 0.026550130076831675), ('volleys', 0.02515741593023758), ('heading_accuracy', 0.021175678650563363), ('positioning', 0.019755653488326686), ('penalties', 0.01944139066801634)]\n"
     ]
    }
   ],
   "source": [
    "import pandas as pd\n",
    "import numpy as np\n",
    "from sklearn.ensemble import RandomForestClassifier\n",
    "from sklearn import datasets\n",
    "from sklearn.model_selection import train_test_split\n",
    "from sklearn.feature_selection import SelectFromModel\n",
    "from sklearn.metrics import accuracy_score\n",
    "\n",
    "sml_proj = pd.read_csv('filtered_dataset.csv', encoding = \"ISO-8859-1\")\n",
    "ds = sml_proj.dropna()\n",
    "attributes = list(ds)\n",
    "features = attributes[2:38]\n",
    "target = attributes[38:42]\n",
    "featureValues = ds.loc[:,features[0]:features[35]]\n",
    "\n",
    "for j in range(0,4):\n",
    "    targetValues = ds.loc[:,target[j]]\n",
    "    features_train, features_test, target_train, target_test = train_test_split(featureValues, targetValues, test_size = 0.4, random_state = 0)\n",
    "    clf = RandomForestClassifier(n_estimators = 10000, random_state = 0, n_jobs = -1)\n",
    "    features_train = features_train.astype(int)\n",
    "    target_train = target_train.astype(int)\n",
    "    clf.fit(features_train, target_train)\n",
    "    i = 0\n",
    "    featureWeight = list()\n",
    "    for feature in zip(features, clf.feature_importances_):\n",
    "        featureWeight.append(feature)\n",
    "    featureWeight.sort(key = lambda x:x[1], reverse = True)\n",
    "\n",
    "    sum = 0\n",
    "    i=0\n",
    "    while(sum < 0.8):\n",
    "        sum += featureWeight[i][1]\n",
    "        i += 1\n",
    "\n",
    "    print(i)\n",
    "    print(featureWeight[:i])\n",
    "\n",
    "# j = 1\n",
    "# print(target[j])\n",
    "# targetValues = ds.loc[:,target[j]]\n",
    "# print(targetValues)\n",
    "# features_train1, features_test1, target_train1, target_test1 = train_test_split(featureValues, targetValues, test_size = 0.4, random_state = 0)\n",
    "# clf = RandomForestClassifier(n_estimators = 10000, random_state = 0, n_jobs = -1)\n",
    "# features_train1 = features_train1.astype(int)\n",
    "# target_train1 = target_train1.astype(int)\n",
    "# clf.fit(features_train1, target_train1)\n",
    "# i = 0\n",
    "# featureWeight = list()\n",
    "# for feature in zip(features, clf.feature_importances_):\n",
    "#     featureWeight.append(feature)\n",
    "# featureWeight.sort(key = lambda x:x[1], reverse = True)\n",
    "\n",
    "# sum = 0\n",
    "# i=0\n",
    "# while(sum < 0.8):\n",
    "#     sum += featureWeight[i][1]\n",
    "#     i += 1\n",
    "\n",
    "# print(i)\n",
    "# print(featureWeight[:i])"
   ]
  },
  {
   "cell_type": "code",
   "execution_count": null,
   "metadata": {},
   "outputs": [],
   "source": []
  }
 ],
 "metadata": {
  "kernelspec": {
   "display_name": "Python 3",
   "language": "python",
   "name": "python3"
  },
  "language_info": {
   "codemirror_mode": {
    "name": "ipython",
    "version": 3
   },
   "file_extension": ".py",
   "mimetype": "text/x-python",
   "name": "python",
   "nbconvert_exporter": "python",
   "pygments_lexer": "ipython3",
   "version": "3.6.4"
  }
 },
 "nbformat": 4,
 "nbformat_minor": 2
}
