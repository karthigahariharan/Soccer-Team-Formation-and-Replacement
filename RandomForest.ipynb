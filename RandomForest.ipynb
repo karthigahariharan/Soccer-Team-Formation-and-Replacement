{
 "cells": [
  {
   "cell_type": "code",
   "execution_count": null,
   "metadata": {},
   "outputs": [],
   "source": [
    "import pandas as pd\n",
    "import numpy as np\n",
    "from sklearn.ensemble import RandomForestClassifier\n",
    "from sklearn import datasets\n",
    "from sklearn.model_selection import train_test_split\n",
    "from sklearn.feature_selection import SelectFromModel\n",
    "from sklearn.metrics import accuracy_score\n",
    "\n",
    "sml_proj = pd.read_csv('filtered_dataset.csv', encoding = \"ISO-8859-1\")\n",
    "ds = sml_proj.dropna()\n",
    "attributes = list(ds)\n",
    "features = attributes[2:38]\n",
    "target = attributes[38:42]\n",
    "featureValues = ds.loc[:,features[0]:features[35]]\n",
    "\n",
    "for j in range(0,4):\n",
    "    targetValues = ds.loc[:,target[j]]\n",
    "    features_train, features_test, target_train, target_test = train_test_split(featureValues, targetValues, test_size = 0.4, random_state = 0)\n",
    "    clf = RandomForestClassifier(n_estimators = 10000, random_state = 0, n_jobs = -1)\n",
    "    features_train = features_train.astype(int)\n",
    "    target_train = target_train.astype(int)\n",
    "    clf.fit(features_train, target_train)\n",
    "    i = 0\n",
    "    featureWeight = list()\n",
    "    for feature in zip(features, clf.feature_importances_):\n",
    "        featureWeight.append(feature)\n",
    "    featureWeight.sort(key = lambda x:x[1], reverse = True)\n",
    "\n",
    "    sum = 0\n",
    "    i=0\n",
    "    while(sum < 0.8):\n",
    "        sum += featureWeight[i][1]\n",
    "        i += 1\n",
    "\n",
    "    print(i)\n",
    "    print(featureWeight[:i])"
   ]
  }
 ],
 "metadata": {
  "kernelspec": {
   "display_name": "Python 3",
   "language": "python",
   "name": "python3"
  },
  "language_info": {
   "codemirror_mode": {
    "name": "ipython",
    "version": 3
   },
   "file_extension": ".py",
   "mimetype": "text/x-python",
   "name": "python",
   "nbconvert_exporter": "python",
   "pygments_lexer": "ipython3",
   "version": "3.6.4"
  }
 },
 "nbformat": 4,
 "nbformat_minor": 2
}
